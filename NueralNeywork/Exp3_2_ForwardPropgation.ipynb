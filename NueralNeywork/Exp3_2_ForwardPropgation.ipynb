{
 "cells": [
  {
   "cell_type": "markdown",
   "source": [
    "# 神经网络前馈算法\n",
    "神经网络结构图示\n",
    "![](../imgs/nn_model.png)"
   ],
   "metadata": {
    "collapsed": false,
    "pycharm": {
     "name": "#%% md\n"
    }
   }
  },
  {
   "cell_type": "code",
   "execution_count": 30,
   "outputs": [],
   "source": [
    "import scipy.io as scio\n",
    "import numpy as np"
   ],
   "metadata": {
    "collapsed": false,
    "pycharm": {
     "name": "#%%\n"
    }
   }
  },
  {
   "cell_type": "markdown",
   "source": [
    "第一层接收的输入为$(n,d+1)$,则$\\theta^{{1}}$的维度是$(d+1, hidden\\_size)$\n",
    "\n",
    "$a^{(2)}$的维度为$(n,hidden\\_size)$\n",
    "\n",
    "第二层接收的输入为$(n, hidden\\_size+1)$, 则$\\theta^{(2)}$的维度是$(hidden\\_size+1, cls\\_n)$\n",
    "\n",
    "$a^{(3)}$的维度为$(n, cls\\_n)$"
   ],
   "metadata": {
    "collapsed": false,
    "pycharm": {
     "name": "#%% md\n"
    }
   }
  },
  {
   "cell_type": "code",
   "execution_count": 31,
   "outputs": [
    {
     "data": {
      "text/plain": "((401, 25), (26, 10))"
     },
     "execution_count": 31,
     "metadata": {},
     "output_type": "execute_result"
    }
   ],
   "source": [
    "data = scio.loadmat('ex3weights.mat')\n",
    "theta1 = data.get('Theta1').T\n",
    "theta2 = data.get('Theta2').T\n",
    "theta1.shape, theta2.shape"
   ],
   "metadata": {
    "collapsed": false,
    "pycharm": {
     "name": "#%%\n"
    }
   }
  },
  {
   "cell_type": "markdown",
   "source": [
    "加载数据"
   ],
   "metadata": {
    "collapsed": false,
    "pycharm": {
     "name": "#%% md\n"
    }
   }
  },
  {
   "cell_type": "code",
   "execution_count": 32,
   "outputs": [
    {
     "data": {
      "text/plain": "((5000, 400), (5000, 1))"
     },
     "execution_count": 32,
     "metadata": {},
     "output_type": "execute_result"
    }
   ],
   "source": [
    "data = scio.loadmat('ex3data1.mat')\n",
    "x = data.get('X')\n",
    "y = data.get('y')\n",
    "# y = np.where(y[:,0]==10,0,y[:,0])\n",
    "x.shape, y.shape"
   ],
   "metadata": {
    "collapsed": false,
    "pycharm": {
     "name": "#%%\n"
    }
   }
  },
  {
   "cell_type": "markdown",
   "source": [
    "调用前馈预测算法，查看预测结果\n",
    "注意要将概率最大的索引+1，才是类标签"
   ],
   "metadata": {
    "collapsed": false,
    "pycharm": {
     "name": "#%% md\n"
    }
   }
  },
  {
   "cell_type": "code",
   "execution_count": 38,
   "outputs": [
    {
     "name": "stdout",
     "output_type": "stream",
     "text": [
      "              precision    recall  f1-score   support\n",
      "\n",
      "           1     0.9820    0.9684    0.9752       507\n",
      "           2     0.9700    0.9818    0.9759       494\n",
      "           3     0.9600    0.9776    0.9687       491\n",
      "           4     0.9680    0.9699    0.9690       499\n",
      "           5     0.9840    0.9723    0.9781       506\n",
      "           6     0.9860    0.9782    0.9821       504\n",
      "           7     0.9700    0.9778    0.9739       496\n",
      "           8     0.9820    0.9781    0.9800       502\n",
      "           9     0.9580    0.9657    0.9618       496\n",
      "          10     0.9920    0.9822    0.9871       505\n",
      "\n",
      "    accuracy                         0.9752      5000\n",
      "   macro avg     0.9752    0.9752    0.9752      5000\n",
      "weighted avg     0.9753    0.9752    0.9752      5000\n",
      "\n"
     ]
    }
   ],
   "source": [
    "from Network import ForwardModel\n",
    "model = ForwardModel()\n",
    "model.load_parameters([theta1, theta2])\n",
    "pred_prob = model(x)\n",
    "# pred_prob = np.concatenate([np.expand_dims(pred_prob[:,-1],axis=1), pred_prob[:,:-1]], axis=1)\n",
    "\n",
    "pred = np.argmax(pred_prob,axis=1) + 1\n",
    "from sklearn.metrics import classification_report\n",
    "report = classification_report(pred, y, digits=4)\n",
    "print(report)"
   ],
   "metadata": {
    "collapsed": false,
    "pycharm": {
     "name": "#%%\n"
    }
   }
  }
 ],
 "metadata": {
  "kernelspec": {
   "display_name": "Python 3",
   "language": "python",
   "name": "python3"
  },
  "language_info": {
   "codemirror_mode": {
    "name": "ipython",
    "version": 2
   },
   "file_extension": ".py",
   "mimetype": "text/x-python",
   "name": "python",
   "nbconvert_exporter": "python",
   "pygments_lexer": "ipython2",
   "version": "2.7.6"
  }
 },
 "nbformat": 4,
 "nbformat_minor": 0
}