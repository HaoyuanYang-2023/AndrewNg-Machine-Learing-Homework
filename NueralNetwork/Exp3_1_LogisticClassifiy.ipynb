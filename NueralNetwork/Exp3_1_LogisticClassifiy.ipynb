{
 "cells": [
  {
   "cell_type": "markdown",
   "source": [
    "# 手写数字分类(Logistic 分类)"
   ],
   "metadata": {
    "collapsed": false,
    "pycharm": {
     "name": "#%% md\n"
    }
   }
  },
  {
   "cell_type": "markdown",
   "source": [
    "## 手写数字分类\n",
    "由于Logistic回归只能实现二分类，这里先实现1 to 1分类，再训练k个分类器，对k个类别进行分类"
   ],
   "metadata": {
    "collapsed": false,
    "pycharm": {
     "name": "#%% md\n"
    }
   }
  },
  {
   "cell_type": "code",
   "execution_count": 1,
   "outputs": [],
   "source": [
    "import scipy.io as scio\n",
    "import numpy as np\n",
    "import matplotlib.pyplot as plt\n",
    "import matplotlib"
   ],
   "metadata": {
    "collapsed": false,
    "pycharm": {
     "name": "#%%\n"
    }
   }
  },
  {
   "cell_type": "markdown",
   "source": [
    "载入数据，由于数据集中对\"0\"的标签为\"10\"，这里替换为0，查看数据集形状"
   ],
   "metadata": {
    "collapsed": false,
    "pycharm": {
     "name": "#%% md\n"
    }
   }
  },
  {
   "cell_type": "code",
   "execution_count": 2,
   "outputs": [
    {
     "data": {
      "text/plain": "((5000, 400), (5000, 1))"
     },
     "execution_count": 2,
     "metadata": {},
     "output_type": "execute_result"
    }
   ],
   "source": [
    "data = scio.loadmat('ex3data1.mat')\n",
    "x = data.get('X')\n",
    "y = data.get('y')\n",
    "y = np.expand_dims(np.where(y[:,0]==10,0,y[:,0]), axis=1)\n",
    "x.shape, y.shape"
   ],
   "metadata": {
    "collapsed": false,
    "pycharm": {
     "name": "#%%\n"
    }
   }
  },
  {
   "cell_type": "markdown",
   "source": [
    "展示一部分数据集图像"
   ],
   "metadata": {
    "collapsed": false,
    "pycharm": {
     "name": "#%% md\n"
    }
   }
  },
  {
   "cell_type": "code",
   "execution_count": 11,
   "outputs": [
    {
     "data": {
      "text/plain": "<Figure size 500x500 with 25 Axes>",
      "image/png": "[encoded data removed]"
     },
     "metadata": {},
     "output_type": "display_data"
    }
   ],
   "source": [
    "def plot_image(img):\n",
    "    \"\"\" sample 100 image and show them\n",
    "    assume the image is square\n",
    "    img: (5000, 400)\n",
    "    \"\"\"\n",
    "    sample_idx = np.random.choice(np.arange(img.shape[0]), 25)  # 100*400\n",
    "    sample_images = img[sample_idx, :]\n",
    "\n",
    "    fig, ax_array = plt.subplots(nrows=5, ncols=5, sharey=True, sharex=True, figsize=(5, 5))\n",
    "\n",
    "    for r in range(5):\n",
    "        for c in range(5):\n",
    "            ax_array[r, c].matshow(sample_images[5 * r + c].reshape((20, 20)).T,\n",
    "                                   cmap=matplotlib.cm.binary)\n",
    "            plt.xticks(np.array([]))\n",
    "            plt.yticks(np.array([]))\n",
    "\n",
    "\n",
    "plot_image(x)"
   ],
   "metadata": {
    "collapsed": false,
    "pycharm": {
     "name": "#%%\n"
    }
   }
  },
  {
   "cell_type": "markdown",
   "source": [
    "对标签实现Onehot编码"
   ],
   "metadata": {
    "collapsed": false,
    "pycharm": {
     "name": "#%% md\n"
    }
   }
  },
  {
   "cell_type": "code",
   "execution_count": 4,
   "outputs": [
    {
     "data": {
      "text/plain": "array([[1, 0, 0, ..., 0, 0, 0],\n       [1, 0, 0, ..., 0, 0, 0],\n       [1, 0, 0, ..., 0, 0, 0],\n       ...,\n       [0, 0, 0, ..., 0, 0, 1],\n       [0, 0, 0, ..., 0, 0, 1],\n       [0, 0, 0, ..., 0, 0, 1]])"
     },
     "execution_count": 4,
     "metadata": {},
     "output_type": "execute_result"
    }
   ],
   "source": [
    "from Network import onehot_encode\n",
    "y_onehot, cls = onehot_encode(y)\n",
    "y_onehot"
   ],
   "metadata": {
    "collapsed": false,
    "pycharm": {
     "name": "#%%\n"
    }
   }
  },
  {
   "cell_type": "markdown",
   "source": [
    "划分训练集和验证集，统计数据集情况"
   ],
   "metadata": {
    "collapsed": false,
    "pycharm": {
     "name": "#%% md\n"
    }
   }
  },
  {
   "cell_type": "code",
   "execution_count": 5,
   "outputs": [
    {
     "name": "stdout",
     "output_type": "stream",
     "text": [
      "Class 0:\t406 train samples\t94 val samples\n",
      "Class 1:\t401 train samples\t99 val samples\n",
      "Class 2:\t389 train samples\t111 val samples\n",
      "Class 3:\t393 train samples\t107 val samples\n",
      "Class 4:\t395 train samples\t105 val samples\n",
      "Class 5:\t416 train samples\t84 val samples\n",
      "Class 6:\t406 train samples\t94 val samples\n",
      "Class 7:\t394 train samples\t106 val samples\n",
      "Class 8:\t397 train samples\t103 val samples\n",
      "Class 9:\t403 train samples\t97 val samples\n",
      "Total train samples: 4000\n",
      "Total val samples: 1000\n"
     ]
    },
    {
     "data": {
      "text/plain": "(4000, 1, 10)"
     },
     "execution_count": 5,
     "metadata": {},
     "output_type": "execute_result"
    }
   ],
   "source": [
    "from sklearn.model_selection import train_test_split\n",
    "train_x, val_x, train_y, val_y = train_test_split(x, y_onehot, test_size=0.2)\n",
    "for cls_idx in cls:\n",
    "    train_sample_n = np.where(train_y[:,cls_idx]==1)[0].shape[0]\n",
    "    val_sample_n = np.where(val_y[:,cls_idx]==1)[0].shape[0]\n",
    "    print(\"Class {}:\\t{} train samples\\t{} val samples\".format(cls_idx, train_sample_n, val_sample_n))\n",
    "print(\"Total train samples: {}\\n\"\n",
    "      \"Total val samples: {}\".format(train_y.shape[0],val_y.shape[0]))\n",
    "\n",
    "train_y_ex = np.expand_dims(train_y,axis=1)\n",
    "val_y_ex = np.expand_dims(val_y,axis=1)\n",
    "train_y_ex.shape"
   ],
   "metadata": {
    "collapsed": false,
    "pycharm": {
     "name": "#%%\n"
    }
   }
  },
  {
   "cell_type": "markdown",
   "source": [
    "### One to One分类\n",
    "使用Logistic回归实现对\"0\"的分类"
   ],
   "metadata": {
    "collapsed": false,
    "pycharm": {
     "name": "#%% md\n"
    }
   }
  },
  {
   "cell_type": "code",
   "execution_count": 6,
   "outputs": [
    {
     "name": "stdout",
     "output_type": "stream",
     "text": [
      "Epoch: 1/200, Train Loss: 0.0704\n",
      "Accuracy on Val set: 90.60%\tLoss on Val set: 0.1045\n",
      "Epoch: 2/200, Train Loss: 0.1158\n",
      "Accuracy on Val set: 90.60%\tLoss on Val set: 0.1256\n",
      "Epoch: 3/200, Train Loss: 0.1404\n",
      "Accuracy on Val set: 90.60%\tLoss on Val set: 0.1363\n",
      "Epoch: 4/200, Train Loss: 0.1531\n",
      "Accuracy on Val set: 90.60%\tLoss on Val set: 0.1413\n",
      "Epoch: 5/200, Train Loss: 0.1591\n",
      "Accuracy on Val set: 90.60%\tLoss on Val set: 0.1429\n",
      "Epoch: 6/200, Train Loss: 0.1613\n",
      "Accuracy on Val set: 90.60%\tLoss on Val set: 0.1424\n",
      "Epoch: 7/200, Train Loss: 0.1610\n",
      "Accuracy on Val set: 90.60%\tLoss on Val set: 0.1405\n",
      "Epoch: 8/200, Train Loss: 0.1591\n",
      "Accuracy on Val set: 90.60%\tLoss on Val set: 0.1378\n",
      "Epoch: 9/200, Train Loss: 0.1561\n",
      "Accuracy on Val set: 90.60%\tLoss on Val set: 0.1345\n",
      "Epoch: 10/200, Train Loss: 0.1526\n",
      "Accuracy on Val set: 90.60%\tLoss on Val set: 0.1309\n",
      "Epoch: 11/200, Train Loss: 0.1487\n",
      "Accuracy on Val set: 90.60%\tLoss on Val set: 0.1272\n",
      "Epoch: 12/200, Train Loss: 0.1446\n",
      "Accuracy on Val set: 90.60%\tLoss on Val set: 0.1234\n",
      "Epoch: 13/200, Train Loss: 0.1405\n",
      "Accuracy on Val set: 90.60%\tLoss on Val set: 0.1197\n",
      "Epoch: 14/200, Train Loss: 0.1364\n",
      "Accuracy on Val set: 90.60%\tLoss on Val set: 0.1161\n",
      "Epoch: 15/200, Train Loss: 0.1324\n",
      "Accuracy on Val set: 90.60%\tLoss on Val set: 0.1126\n",
      "Epoch: 16/200, Train Loss: 0.1286\n",
      "Accuracy on Val set: 90.70%\tLoss on Val set: 0.1093\n",
      "Epoch: 17/200, Train Loss: 0.1250\n",
      "Accuracy on Val set: 91.10%\tLoss on Val set: 0.1062\n",
      "Epoch: 18/200, Train Loss: 0.1215\n",
      "Accuracy on Val set: 91.10%\tLoss on Val set: 0.1032\n",
      "Epoch: 19/200, Train Loss: 0.1183\n",
      "Accuracy on Val set: 91.50%\tLoss on Val set: 0.1005\n",
      "Epoch: 20/200, Train Loss: 0.1152\n",
      "Accuracy on Val set: 91.80%\tLoss on Val set: 0.0979\n",
      "Epoch: 21/200, Train Loss: 0.1124\n",
      "Accuracy on Val set: 92.60%\tLoss on Val set: 0.0954\n",
      "Epoch: 22/200, Train Loss: 0.1097\n",
      "Accuracy on Val set: 92.80%\tLoss on Val set: 0.0931\n",
      "Epoch: 23/200, Train Loss: 0.1072\n",
      "Accuracy on Val set: 92.90%\tLoss on Val set: 0.0910\n",
      "Epoch: 24/200, Train Loss: 0.1048\n",
      "Accuracy on Val set: 93.70%\tLoss on Val set: 0.0889\n",
      "Epoch: 25/200, Train Loss: 0.1026\n",
      "Accuracy on Val set: 94.10%\tLoss on Val set: 0.0871\n",
      "Epoch: 26/200, Train Loss: 0.1005\n",
      "Accuracy on Val set: 94.80%\tLoss on Val set: 0.0853\n",
      "Epoch: 27/200, Train Loss: 0.0986\n",
      "Accuracy on Val set: 95.10%\tLoss on Val set: 0.0836\n",
      "Epoch: 28/200, Train Loss: 0.0968\n",
      "Accuracy on Val set: 95.50%\tLoss on Val set: 0.0820\n",
      "Epoch: 29/200, Train Loss: 0.0951\n",
      "Accuracy on Val set: 95.90%\tLoss on Val set: 0.0806\n",
      "Epoch: 30/200, Train Loss: 0.0935\n",
      "Accuracy on Val set: 96.00%\tLoss on Val set: 0.0792\n",
      "Epoch: 31/200, Train Loss: 0.0920\n",
      "Accuracy on Val set: 96.00%\tLoss on Val set: 0.0779\n",
      "Epoch: 32/200, Train Loss: 0.0905\n",
      "Accuracy on Val set: 96.30%\tLoss on Val set: 0.0766\n",
      "Epoch: 33/200, Train Loss: 0.0892\n",
      "Accuracy on Val set: 96.30%\tLoss on Val set: 0.0755\n",
      "Epoch: 34/200, Train Loss: 0.0879\n",
      "Accuracy on Val set: 96.40%\tLoss on Val set: 0.0743\n",
      "Epoch: 35/200, Train Loss: 0.0867\n",
      "Accuracy on Val set: 96.60%\tLoss on Val set: 0.0733\n",
      "Epoch: 36/200, Train Loss: 0.0856\n",
      "Accuracy on Val set: 96.60%\tLoss on Val set: 0.0723\n",
      "Epoch: 37/200, Train Loss: 0.0845\n",
      "Accuracy on Val set: 96.70%\tLoss on Val set: 0.0713\n",
      "Epoch: 38/200, Train Loss: 0.0835\n",
      "Accuracy on Val set: 96.70%\tLoss on Val set: 0.0704\n",
      "Epoch: 39/200, Train Loss: 0.0825\n",
      "Accuracy on Val set: 97.00%\tLoss on Val set: 0.0696\n",
      "Epoch: 40/200, Train Loss: 0.0816\n",
      "Accuracy on Val set: 97.10%\tLoss on Val set: 0.0688\n",
      "Epoch: 41/200, Train Loss: 0.0807\n",
      "Accuracy on Val set: 97.10%\tLoss on Val set: 0.0680\n",
      "Epoch: 42/200, Train Loss: 0.0798\n",
      "Accuracy on Val set: 97.10%\tLoss on Val set: 0.0672\n",
      "Epoch: 43/200, Train Loss: 0.0790\n",
      "Accuracy on Val set: 97.20%\tLoss on Val set: 0.0665\n",
      "Epoch: 44/200, Train Loss: 0.0782\n",
      "Accuracy on Val set: 97.20%\tLoss on Val set: 0.0658\n",
      "Epoch: 45/200, Train Loss: 0.0775\n",
      "Accuracy on Val set: 97.20%\tLoss on Val set: 0.0652\n",
      "Epoch: 46/200, Train Loss: 0.0768\n",
      "Accuracy on Val set: 97.20%\tLoss on Val set: 0.0645\n",
      "Epoch: 47/200, Train Loss: 0.0761\n",
      "Accuracy on Val set: 97.40%\tLoss on Val set: 0.0639\n",
      "Epoch: 48/200, Train Loss: 0.0755\n",
      "Accuracy on Val set: 97.50%\tLoss on Val set: 0.0634\n",
      "Epoch: 49/200, Train Loss: 0.0748\n",
      "Accuracy on Val set: 97.50%\tLoss on Val set: 0.0628\n",
      "Epoch: 50/200, Train Loss: 0.0742\n",
      "Accuracy on Val set: 97.50%\tLoss on Val set: 0.0623\n",
      "Epoch: 51/200, Train Loss: 0.0736\n",
      "Accuracy on Val set: 97.50%\tLoss on Val set: 0.0617\n",
      "Epoch: 52/200, Train Loss: 0.0731\n",
      "Accuracy on Val set: 97.50%\tLoss on Val set: 0.0613\n",
      "Epoch: 53/200, Train Loss: 0.0726\n",
      "Accuracy on Val set: 97.50%\tLoss on Val set: 0.0608\n",
      "Epoch: 54/200, Train Loss: 0.0720\n",
      "Accuracy on Val set: 97.50%\tLoss on Val set: 0.0603\n",
      "Epoch: 55/200, Train Loss: 0.0715\n",
      "Accuracy on Val set: 97.70%\tLoss on Val set: 0.0599\n",
      "Epoch: 56/200, Train Loss: 0.0711\n",
      "Accuracy on Val set: 97.80%\tLoss on Val set: 0.0594\n",
      "Epoch: 57/200, Train Loss: 0.0706\n",
      "Accuracy on Val set: 97.70%\tLoss on Val set: 0.0590\n",
      "Epoch: 58/200, Train Loss: 0.0701\n",
      "Accuracy on Val set: 97.70%\tLoss on Val set: 0.0586\n",
      "Epoch: 59/200, Train Loss: 0.0697\n",
      "Accuracy on Val set: 97.70%\tLoss on Val set: 0.0582\n",
      "Epoch: 60/200, Train Loss: 0.0693\n",
      "Accuracy on Val set: 97.70%\tLoss on Val set: 0.0579\n",
      "Epoch: 61/200, Train Loss: 0.0689\n",
      "Accuracy on Val set: 97.70%\tLoss on Val set: 0.0575\n",
      "Epoch: 62/200, Train Loss: 0.0685\n",
      "Accuracy on Val set: 97.70%\tLoss on Val set: 0.0571\n",
      "Epoch: 63/200, Train Loss: 0.0681\n",
      "Accuracy on Val set: 97.70%\tLoss on Val set: 0.0568\n",
      "Epoch: 64/200, Train Loss: 0.0677\n",
      "Accuracy on Val set: 97.70%\tLoss on Val set: 0.0565\n",
      "Epoch: 65/200, Train Loss: 0.0674\n",
      "Accuracy on Val set: 97.80%\tLoss on Val set: 0.0561\n",
      "Epoch: 66/200, Train Loss: 0.0670\n",
      "Accuracy on Val set: 97.80%\tLoss on Val set: 0.0558\n",
      "Epoch: 67/200, Train Loss: 0.0667\n",
      "Accuracy on Val set: 97.80%\tLoss on Val set: 0.0555\n",
      "Epoch: 68/200, Train Loss: 0.0663\n",
      "Accuracy on Val set: 97.80%\tLoss on Val set: 0.0552\n",
      "Epoch: 69/200, Train Loss: 0.0660\n",
      "Accuracy on Val set: 97.90%\tLoss on Val set: 0.0549\n",
      "Epoch: 70/200, Train Loss: 0.0657\n",
      "Accuracy on Val set: 97.90%\tLoss on Val set: 0.0547\n",
      "Epoch: 71/200, Train Loss: 0.0654\n",
      "Accuracy on Val set: 98.00%\tLoss on Val set: 0.0544\n",
      "Epoch: 72/200, Train Loss: 0.0651\n",
      "Accuracy on Val set: 98.00%\tLoss on Val set: 0.0541\n",
      "Epoch: 73/200, Train Loss: 0.0648\n",
      "Accuracy on Val set: 98.00%\tLoss on Val set: 0.0539\n",
      "Epoch: 74/200, Train Loss: 0.0645\n",
      "Accuracy on Val set: 98.00%\tLoss on Val set: 0.0536\n",
      "Epoch: 75/200, Train Loss: 0.0642\n",
      "Accuracy on Val set: 98.00%\tLoss on Val set: 0.0534\n",
      "Epoch: 76/200, Train Loss: 0.0640\n",
      "Accuracy on Val set: 98.00%\tLoss on Val set: 0.0531\n",
      "Epoch: 77/200, Train Loss: 0.0637\n",
      "Accuracy on Val set: 98.10%\tLoss on Val set: 0.0529\n",
      "Epoch: 78/200, Train Loss: 0.0635\n",
      "Accuracy on Val set: 98.20%\tLoss on Val set: 0.0527\n",
      "Epoch: 79/200, Train Loss: 0.0632\n",
      "Accuracy on Val set: 98.20%\tLoss on Val set: 0.0525\n",
      "Epoch: 80/200, Train Loss: 0.0630\n",
      "Accuracy on Val set: 98.20%\tLoss on Val set: 0.0522\n",
      "Epoch: 81/200, Train Loss: 0.0627\n",
      "Accuracy on Val set: 98.30%\tLoss on Val set: 0.0520\n",
      "Epoch: 82/200, Train Loss: 0.0625\n",
      "Accuracy on Val set: 98.30%\tLoss on Val set: 0.0518\n",
      "Epoch: 83/200, Train Loss: 0.0623\n",
      "Accuracy on Val set: 98.30%\tLoss on Val set: 0.0516\n",
      "Epoch: 84/200, Train Loss: 0.0621\n",
      "Accuracy on Val set: 98.30%\tLoss on Val set: 0.0514\n",
      "Epoch: 85/200, Train Loss: 0.0618\n",
      "Accuracy on Val set: 98.30%\tLoss on Val set: 0.0513\n",
      "Epoch: 86/200, Train Loss: 0.0616\n",
      "Accuracy on Val set: 98.30%\tLoss on Val set: 0.0511\n",
      "Epoch: 87/200, Train Loss: 0.0614\n",
      "Accuracy on Val set: 98.30%\tLoss on Val set: 0.0509\n",
      "Epoch: 88/200, Train Loss: 0.0612\n",
      "Accuracy on Val set: 98.30%\tLoss on Val set: 0.0507\n",
      "Epoch: 89/200, Train Loss: 0.0610\n",
      "Accuracy on Val set: 98.40%\tLoss on Val set: 0.0505\n",
      "Epoch: 90/200, Train Loss: 0.0608\n",
      "Accuracy on Val set: 98.40%\tLoss on Val set: 0.0504\n",
      "Epoch: 91/200, Train Loss: 0.0606\n",
      "Accuracy on Val set: 98.40%\tLoss on Val set: 0.0502\n",
      "Epoch: 92/200, Train Loss: 0.0605\n",
      "Accuracy on Val set: 98.40%\tLoss on Val set: 0.0500\n",
      "Epoch: 93/200, Train Loss: 0.0603\n",
      "Accuracy on Val set: 98.40%\tLoss on Val set: 0.0499\n",
      "Epoch: 94/200, Train Loss: 0.0601\n",
      "Accuracy on Val set: 98.40%\tLoss on Val set: 0.0497\n",
      "Epoch: 95/200, Train Loss: 0.0599\n",
      "Accuracy on Val set: 98.40%\tLoss on Val set: 0.0496\n",
      "Epoch: 96/200, Train Loss: 0.0597\n",
      "Accuracy on Val set: 98.40%\tLoss on Val set: 0.0494\n",
      "Epoch: 97/200, Train Loss: 0.0596\n",
      "Accuracy on Val set: 98.40%\tLoss on Val set: 0.0493\n",
      "Epoch: 98/200, Train Loss: 0.0594\n",
      "Accuracy on Val set: 98.40%\tLoss on Val set: 0.0491\n",
      "Epoch: 99/200, Train Loss: 0.0592\n",
      "Accuracy on Val set: 98.40%\tLoss on Val set: 0.0490\n",
      "Epoch: 100/200, Train Loss: 0.0591\n",
      "Accuracy on Val set: 98.40%\tLoss on Val set: 0.0489\n",
      "Epoch: 101/200, Train Loss: 0.0589\n",
      "Accuracy on Val set: 98.40%\tLoss on Val set: 0.0487\n",
      "Epoch: 102/200, Train Loss: 0.0588\n",
      "Accuracy on Val set: 98.40%\tLoss on Val set: 0.0486\n",
      "Epoch: 103/200, Train Loss: 0.0586\n",
      "Accuracy on Val set: 98.40%\tLoss on Val set: 0.0485\n",
      "Epoch: 104/200, Train Loss: 0.0585\n",
      "Accuracy on Val set: 98.40%\tLoss on Val set: 0.0483\n",
      "Epoch: 105/200, Train Loss: 0.0583\n",
      "Accuracy on Val set: 98.40%\tLoss on Val set: 0.0482\n",
      "Epoch: 106/200, Train Loss: 0.0582\n",
      "Accuracy on Val set: 98.40%\tLoss on Val set: 0.0481\n",
      "Epoch: 107/200, Train Loss: 0.0581\n",
      "Accuracy on Val set: 98.40%\tLoss on Val set: 0.0480\n",
      "Epoch: 108/200, Train Loss: 0.0579\n",
      "Accuracy on Val set: 98.40%\tLoss on Val set: 0.0478\n",
      "Epoch: 109/200, Train Loss: 0.0578\n",
      "Accuracy on Val set: 98.40%\tLoss on Val set: 0.0477\n",
      "Epoch: 110/200, Train Loss: 0.0577\n",
      "Accuracy on Val set: 98.40%\tLoss on Val set: 0.0476\n",
      "Epoch: 111/200, Train Loss: 0.0575\n",
      "Accuracy on Val set: 98.40%\tLoss on Val set: 0.0475\n",
      "Epoch: 112/200, Train Loss: 0.0574\n",
      "Accuracy on Val set: 98.40%\tLoss on Val set: 0.0474\n",
      "Epoch: 113/200, Train Loss: 0.0573\n",
      "Accuracy on Val set: 98.40%\tLoss on Val set: 0.0473\n",
      "Epoch: 114/200, Train Loss: 0.0571\n",
      "Accuracy on Val set: 98.40%\tLoss on Val set: 0.0472\n",
      "Epoch: 115/200, Train Loss: 0.0570\n",
      "Accuracy on Val set: 98.40%\tLoss on Val set: 0.0471\n",
      "Epoch: 116/200, Train Loss: 0.0569\n",
      "Accuracy on Val set: 98.40%\tLoss on Val set: 0.0470\n",
      "Epoch: 117/200, Train Loss: 0.0568\n",
      "Accuracy on Val set: 98.40%\tLoss on Val set: 0.0469\n",
      "Epoch: 118/200, Train Loss: 0.0567\n",
      "Accuracy on Val set: 98.40%\tLoss on Val set: 0.0468\n",
      "Epoch: 119/200, Train Loss: 0.0566\n",
      "Accuracy on Val set: 98.40%\tLoss on Val set: 0.0467\n",
      "Epoch: 120/200, Train Loss: 0.0564\n",
      "Accuracy on Val set: 98.40%\tLoss on Val set: 0.0466\n",
      "Epoch: 121/200, Train Loss: 0.0563\n",
      "Accuracy on Val set: 98.40%\tLoss on Val set: 0.0465\n",
      "Epoch: 122/200, Train Loss: 0.0562\n",
      "Accuracy on Val set: 98.40%\tLoss on Val set: 0.0464\n",
      "Epoch: 123/200, Train Loss: 0.0561\n",
      "Accuracy on Val set: 98.40%\tLoss on Val set: 0.0463\n",
      "Epoch: 124/200, Train Loss: 0.0560\n",
      "Accuracy on Val set: 98.40%\tLoss on Val set: 0.0462\n",
      "Epoch: 125/200, Train Loss: 0.0559\n",
      "Accuracy on Val set: 98.40%\tLoss on Val set: 0.0461\n",
      "Epoch: 126/200, Train Loss: 0.0558\n",
      "Accuracy on Val set: 98.40%\tLoss on Val set: 0.0461\n",
      "Epoch: 127/200, Train Loss: 0.0557\n",
      "Accuracy on Val set: 98.40%\tLoss on Val set: 0.0460\n",
      "Epoch: 128/200, Train Loss: 0.0556\n",
      "Accuracy on Val set: 98.40%\tLoss on Val set: 0.0459\n",
      "Epoch: 129/200, Train Loss: 0.0555\n",
      "Accuracy on Val set: 98.40%\tLoss on Val set: 0.0458\n",
      "Epoch: 130/200, Train Loss: 0.0554\n",
      "Accuracy on Val set: 98.40%\tLoss on Val set: 0.0457\n",
      "Epoch: 131/200, Train Loss: 0.0553\n",
      "Accuracy on Val set: 98.40%\tLoss on Val set: 0.0457\n",
      "Epoch: 132/200, Train Loss: 0.0552\n",
      "Accuracy on Val set: 98.40%\tLoss on Val set: 0.0456\n",
      "Epoch: 133/200, Train Loss: 0.0551\n",
      "Accuracy on Val set: 98.40%\tLoss on Val set: 0.0455\n",
      "Epoch: 134/200, Train Loss: 0.0550\n",
      "Accuracy on Val set: 98.40%\tLoss on Val set: 0.0454\n",
      "Epoch: 135/200, Train Loss: 0.0550\n",
      "Accuracy on Val set: 98.40%\tLoss on Val set: 0.0454\n",
      "Epoch: 136/200, Train Loss: 0.0549\n",
      "Accuracy on Val set: 98.40%\tLoss on Val set: 0.0453\n",
      "Epoch: 137/200, Train Loss: 0.0548\n",
      "Accuracy on Val set: 98.40%\tLoss on Val set: 0.0452\n",
      "Epoch: 138/200, Train Loss: 0.0547\n",
      "Accuracy on Val set: 98.50%\tLoss on Val set: 0.0451\n",
      "Epoch: 139/200, Train Loss: 0.0546\n",
      "Accuracy on Val set: 98.50%\tLoss on Val set: 0.0451\n",
      "Epoch: 140/200, Train Loss: 0.0545\n",
      "Accuracy on Val set: 98.50%\tLoss on Val set: 0.0450\n",
      "Epoch: 141/200, Train Loss: 0.0544\n",
      "Accuracy on Val set: 98.50%\tLoss on Val set: 0.0449\n",
      "Epoch: 142/200, Train Loss: 0.0544\n",
      "Accuracy on Val set: 98.50%\tLoss on Val set: 0.0449\n",
      "Epoch: 143/200, Train Loss: 0.0543\n",
      "Accuracy on Val set: 98.50%\tLoss on Val set: 0.0448\n",
      "Epoch: 144/200, Train Loss: 0.0542\n",
      "Accuracy on Val set: 98.50%\tLoss on Val set: 0.0447\n",
      "Epoch: 145/200, Train Loss: 0.0541\n",
      "Accuracy on Val set: 98.50%\tLoss on Val set: 0.0447\n",
      "Epoch: 146/200, Train Loss: 0.0540\n",
      "Accuracy on Val set: 98.50%\tLoss on Val set: 0.0446\n",
      "Epoch: 147/200, Train Loss: 0.0540\n",
      "Accuracy on Val set: 98.50%\tLoss on Val set: 0.0446\n",
      "Epoch: 148/200, Train Loss: 0.0539\n",
      "Accuracy on Val set: 98.50%\tLoss on Val set: 0.0445\n",
      "Epoch: 149/200, Train Loss: 0.0538\n",
      "Accuracy on Val set: 98.50%\tLoss on Val set: 0.0444\n",
      "Epoch: 150/200, Train Loss: 0.0537\n",
      "Accuracy on Val set: 98.50%\tLoss on Val set: 0.0444\n",
      "Epoch: 151/200, Train Loss: 0.0537\n",
      "Accuracy on Val set: 98.50%\tLoss on Val set: 0.0443\n",
      "Epoch: 152/200, Train Loss: 0.0536\n",
      "Accuracy on Val set: 98.50%\tLoss on Val set: 0.0443\n",
      "Epoch: 153/200, Train Loss: 0.0535\n",
      "Accuracy on Val set: 98.50%\tLoss on Val set: 0.0442\n",
      "Epoch: 154/200, Train Loss: 0.0535\n",
      "Accuracy on Val set: 98.50%\tLoss on Val set: 0.0441\n",
      "Epoch: 155/200, Train Loss: 0.0534\n",
      "Accuracy on Val set: 98.50%\tLoss on Val set: 0.0441\n",
      "Epoch: 156/200, Train Loss: 0.0533\n",
      "Accuracy on Val set: 98.50%\tLoss on Val set: 0.0440\n",
      "Epoch: 157/200, Train Loss: 0.0533\n",
      "Accuracy on Val set: 98.50%\tLoss on Val set: 0.0440\n",
      "Epoch: 158/200, Train Loss: 0.0532\n",
      "Accuracy on Val set: 98.50%\tLoss on Val set: 0.0439\n",
      "Epoch: 159/200, Train Loss: 0.0531\n",
      "Accuracy on Val set: 98.50%\tLoss on Val set: 0.0439\n",
      "Epoch: 160/200, Train Loss: 0.0531\n",
      "Accuracy on Val set: 98.50%\tLoss on Val set: 0.0438\n",
      "Epoch: 161/200, Train Loss: 0.0530\n",
      "Accuracy on Val set: 98.50%\tLoss on Val set: 0.0438\n",
      "Epoch: 162/200, Train Loss: 0.0529\n",
      "Accuracy on Val set: 98.50%\tLoss on Val set: 0.0437\n",
      "Epoch: 163/200, Train Loss: 0.0529\n",
      "Accuracy on Val set: 98.50%\tLoss on Val set: 0.0437\n",
      "Epoch: 164/200, Train Loss: 0.0528\n",
      "Accuracy on Val set: 98.50%\tLoss on Val set: 0.0436\n",
      "Epoch: 165/200, Train Loss: 0.0528\n",
      "Accuracy on Val set: 98.50%\tLoss on Val set: 0.0436\n",
      "Epoch: 166/200, Train Loss: 0.0527\n",
      "Accuracy on Val set: 98.50%\tLoss on Val set: 0.0435\n",
      "Epoch: 167/200, Train Loss: 0.0526\n",
      "Accuracy on Val set: 98.50%\tLoss on Val set: 0.0435\n",
      "Epoch: 168/200, Train Loss: 0.0526\n",
      "Accuracy on Val set: 98.50%\tLoss on Val set: 0.0435\n",
      "Epoch: 169/200, Train Loss: 0.0525\n",
      "Accuracy on Val set: 98.50%\tLoss on Val set: 0.0434\n",
      "Epoch: 170/200, Train Loss: 0.0525\n",
      "Accuracy on Val set: 98.50%\tLoss on Val set: 0.0434\n",
      "Epoch: 171/200, Train Loss: 0.0524\n",
      "Accuracy on Val set: 98.50%\tLoss on Val set: 0.0433\n",
      "Epoch: 172/200, Train Loss: 0.0523\n",
      "Accuracy on Val set: 98.50%\tLoss on Val set: 0.0433\n",
      "Epoch: 173/200, Train Loss: 0.0523\n",
      "Accuracy on Val set: 98.50%\tLoss on Val set: 0.0432\n",
      "Epoch: 174/200, Train Loss: 0.0522\n",
      "Accuracy on Val set: 98.50%\tLoss on Val set: 0.0432\n",
      "Epoch: 175/200, Train Loss: 0.0522\n",
      "Accuracy on Val set: 98.50%\tLoss on Val set: 0.0432\n",
      "Epoch: 176/200, Train Loss: 0.0521\n",
      "Accuracy on Val set: 98.50%\tLoss on Val set: 0.0431\n",
      "Epoch: 177/200, Train Loss: 0.0521\n",
      "Accuracy on Val set: 98.50%\tLoss on Val set: 0.0431\n",
      "Epoch: 178/200, Train Loss: 0.0520\n",
      "Accuracy on Val set: 98.50%\tLoss on Val set: 0.0430\n",
      "Epoch: 179/200, Train Loss: 0.0520\n",
      "Accuracy on Val set: 98.50%\tLoss on Val set: 0.0430\n",
      "Epoch: 180/200, Train Loss: 0.0519\n",
      "Accuracy on Val set: 98.50%\tLoss on Val set: 0.0430\n",
      "Epoch: 181/200, Train Loss: 0.0519\n",
      "Accuracy on Val set: 98.50%\tLoss on Val set: 0.0429\n",
      "Epoch: 182/200, Train Loss: 0.0518\n",
      "Accuracy on Val set: 98.50%\tLoss on Val set: 0.0429\n",
      "Epoch: 183/200, Train Loss: 0.0518\n",
      "Accuracy on Val set: 98.50%\tLoss on Val set: 0.0428\n",
      "Epoch: 184/200, Train Loss: 0.0517\n",
      "Accuracy on Val set: 98.50%\tLoss on Val set: 0.0428\n",
      "Epoch: 185/200, Train Loss: 0.0517\n",
      "Accuracy on Val set: 98.50%\tLoss on Val set: 0.0428\n",
      "Epoch: 186/200, Train Loss: 0.0516\n",
      "Accuracy on Val set: 98.50%\tLoss on Val set: 0.0427\n",
      "Epoch: 187/200, Train Loss: 0.0516\n",
      "Accuracy on Val set: 98.50%\tLoss on Val set: 0.0427\n",
      "Epoch: 188/200, Train Loss: 0.0515\n",
      "Accuracy on Val set: 98.50%\tLoss on Val set: 0.0427\n",
      "Epoch: 189/200, Train Loss: 0.0515\n",
      "Accuracy on Val set: 98.50%\tLoss on Val set: 0.0426\n",
      "Epoch: 190/200, Train Loss: 0.0514\n",
      "Accuracy on Val set: 98.50%\tLoss on Val set: 0.0426\n",
      "Epoch: 191/200, Train Loss: 0.0514\n",
      "Accuracy on Val set: 98.50%\tLoss on Val set: 0.0426\n",
      "Epoch: 192/200, Train Loss: 0.0514\n",
      "Accuracy on Val set: 98.50%\tLoss on Val set: 0.0425\n",
      "Epoch: 193/200, Train Loss: 0.0513\n",
      "Accuracy on Val set: 98.50%\tLoss on Val set: 0.0425\n",
      "Epoch: 194/200, Train Loss: 0.0513\n",
      "Accuracy on Val set: 98.50%\tLoss on Val set: 0.0425\n",
      "Epoch: 195/200, Train Loss: 0.0512\n",
      "Accuracy on Val set: 98.50%\tLoss on Val set: 0.0424\n",
      "Epoch: 196/200, Train Loss: 0.0512\n",
      "Accuracy on Val set: 98.50%\tLoss on Val set: 0.0424\n",
      "Epoch: 197/200, Train Loss: 0.0511\n",
      "Accuracy on Val set: 98.50%\tLoss on Val set: 0.0424\n",
      "Epoch: 198/200, Train Loss: 0.0511\n",
      "Accuracy on Val set: 98.50%\tLoss on Val set: 0.0423\n",
      "Epoch: 199/200, Train Loss: 0.0511\n",
      "Accuracy on Val set: 98.50%\tLoss on Val set: 0.0423\n",
      "Epoch: 200/200, Train Loss: 0.0510\n",
      "Accuracy on Val set: 98.50%\tLoss on Val set: 0.0423\n"
     ]
    },
    {
     "data": {
      "text/plain": "(1, 401)"
     },
     "execution_count": 6,
     "metadata": {},
     "output_type": "execute_result"
    }
   ],
   "source": [
    "from LogisticRegression.LogisticRegression import LogisticRegression\n",
    "\n",
    "epochs = 200\n",
    "alpha = 0.1\n",
    "scale = 10\n",
    "regularize = \"L2\"\n",
    "normalize = False\n",
    "logistic_reg = LogisticRegression(x=train_x,y=train_y_ex[:,:,0],val_x=val_x,val_y=val_y_ex[:,:,0],epoch=epochs,lr=alpha,scale=scale,normalize=normalize, regularize=regularize)\n",
    "theta, train_loss, val_loss = logistic_reg.train()\n",
    "theta.shape"
   ],
   "metadata": {
    "collapsed": false,
    "pycharm": {
     "name": "#%%\n"
    }
   }
  },
  {
   "cell_type": "markdown",
   "source": [
    "查看训练过程，此处损失先上升后下降，应该是初始化的问题，参数最开始没有找到好的下降方向"
   ],
   "metadata": {
    "collapsed": false,
    "pycharm": {
     "name": "#%% md\n"
    }
   }
  },
  {
   "cell_type": "code",
   "execution_count": 7,
   "outputs": [
    {
     "data": {
      "text/plain": "<Figure size 1200x800 with 1 Axes>",
      "image/png": "[encoded data removed]"
     },
     "metadata": {},
     "output_type": "display_data"
    }
   ],
   "source": [
    "fig, ax = plt.subplots(figsize=(12,8))\n",
    "ax.plot(np.arange(1,epochs+1), train_loss, 'r', label=\"Train Loss\")\n",
    "ax.plot(np.arange(1,epochs+1), val_loss, 'b', label=\"Val Loss\")\n",
    "ax.set_xlabel('Epoch')\n",
    "ax.set_ylabel('Loss')\n",
    "ax.set_title('Train Curve')\n",
    "plt.legend(loc=2)\n",
    "plt.show()"
   ],
   "metadata": {
    "collapsed": false,
    "pycharm": {
     "name": "#%%\n"
    }
   }
  },
  {
   "cell_type": "markdown",
   "source": [
    "查看分类性能"
   ],
   "metadata": {
    "collapsed": false,
    "pycharm": {
     "name": "#%% md\n"
    }
   }
  },
  {
   "cell_type": "code",
   "execution_count": 8,
   "outputs": [
    {
     "name": "stdout",
     "output_type": "stream",
     "text": [
      "Accuracy on Val set: 98.50%\n",
      "Val Loss on Val set: 0.0328\n",
      "F1 Score on Val set: 0.9153\n"
     ]
    }
   ],
   "source": [
    "from LogisticRegression.LogisticRegression import bce_loss\n",
    "from sklearn.metrics import f1_score\n",
    "pred_prob = logistic_reg.get_prob(x=val_x)\n",
    "loss_val = bce_loss(pred=pred_prob, target=val_y_ex[:,:,0])\n",
    "\n",
    "pred = logistic_reg.predict(x=val_x)\n",
    "logistic_f1 = f1_score(val_y_ex[:,:,0],pred)\n",
    "acc = logistic_reg.test(x=val_x,y=val_y_ex[:,:,0])\n",
    "print(\"Accuracy on Val set: {:.2f}%\\n\"\n",
    "      \"Val Loss on Val set: {:.4f}\\n\"\n",
    "      \"F1 Score on Val set: {:.4f}\".format(acc * 100, loss_val, logistic_f1))"
   ],
   "metadata": {
    "collapsed": false,
    "pycharm": {
     "name": "#%%\n"
    }
   }
  },
  {
   "cell_type": "markdown",
   "source": [
    "### One to K分类\n",
    "训练k个分类器"
   ],
   "metadata": {
    "collapsed": false,
    "pycharm": {
     "name": "#%% md\n"
    }
   }
  },
  {
   "cell_type": "code",
   "execution_count": 9,
   "outputs": [
    {
     "name": "stdout",
     "output_type": "stream",
     "text": [
      "Total Classifiers: 10\n"
     ]
    }
   ],
   "source": [
    "classifier_list = []\n",
    "for cls_idx in cls:\n",
    "    classifier = LogisticRegression(x=train_x,y=train_y_ex[:,:,cls_idx], val_x=val_x, val_y=val_y_ex[:,:,cls_idx], epoch=epochs,lr=alpha,normalize=normalize, regularize=\"L2\", scale=2, show=False)\n",
    "    classifier.train()\n",
    "    classifier_list.append(classifier)\n",
    "\n",
    "print(\"Total Classifiers: {}\".format(len(classifier_list)))"
   ],
   "metadata": {
    "collapsed": false,
    "pycharm": {
     "name": "#%%\n"
    }
   }
  },
  {
   "cell_type": "markdown",
   "source": [
    "进行分类，选择概率最高的类为分类结果，用sklearn进行分类结果统计"
   ],
   "metadata": {
    "collapsed": false,
    "pycharm": {
     "name": "#%% md\n"
    }
   }
  },
  {
   "cell_type": "code",
   "execution_count": 10,
   "outputs": [
    {
     "name": "stdout",
     "output_type": "stream",
     "text": [
      "              precision    recall  f1-score   support\n",
      "\n",
      "           0     0.9574    0.9184    0.9375        98\n",
      "           1     0.9495    0.8468    0.8952       111\n",
      "           2     0.8378    0.9118    0.8732       102\n",
      "           3     0.8505    0.8667    0.8585       105\n",
      "           4     0.8952    0.8785    0.8868       107\n",
      "           5     0.6905    0.9062    0.7838        64\n",
      "           6     0.8830    0.8737    0.8783        95\n",
      "           7     0.8962    0.9048    0.9005       105\n",
      "           8     0.8738    0.7965    0.8333       113\n",
      "           9     0.8351    0.8100    0.8223       100\n",
      "\n",
      "    accuracy                         0.8690      1000\n",
      "   macro avg     0.8669    0.8713    0.8669      1000\n",
      "weighted avg     0.8742    0.8690    0.8699      1000\n",
      "\n"
     ]
    }
   ],
   "source": [
    "# (cls_n, sample_n, 1)\n",
    "prob_list = [classifier_i.get_prob(val_x) for classifier_i in classifier_list]\n",
    "# (sample_n, cls_n)\n",
    "prob_arr = np.array(prob_list).squeeze().T\n",
    "# (sample_n,)\n",
    "multi_pred = np.argmax(prob_arr,axis=1)\n",
    "\n",
    "from sklearn.metrics import classification_report\n",
    "report = classification_report(multi_pred, np.argmax(val_y, axis=1), digits=4)\n",
    "print(report)"
   ],
   "metadata": {
    "collapsed": false,
    "pycharm": {
     "name": "#%%\n"
    }
   }
  }
 ],
 "metadata": {
  "kernelspec": {
   "display_name": "Python 3",
   "language": "python",
   "name": "python3"
  },
  "language_info": {
   "codemirror_mode": {
    "name": "ipython",
    "version": 2
   },
   "file_extension": ".py",
   "mimetype": "text/x-python",
   "name": "python",
   "nbconvert_exporter": "python",
   "pygments_lexer": "ipython2",
   "version": "2.7.6"
  }
 },
 "nbformat": 4,
 "nbformat_minor": 0
}